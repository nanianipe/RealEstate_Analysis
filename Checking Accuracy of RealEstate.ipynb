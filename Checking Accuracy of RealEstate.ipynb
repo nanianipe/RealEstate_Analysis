{
 "cells": [
  {
   "cell_type": "code",
   "execution_count": 61,
   "id": "3245f44b-9fad-4a31-bbdf-2c907775b1bc",
   "metadata": {},
   "outputs": [],
   "source": [
    "import pandas as pd\n",
    "import numpy as np\n",
    "import seaborn as sns\n",
    "import matplotlib.pyplot as plt"
   ]
  },
  {
   "cell_type": "code",
   "execution_count": 62,
   "id": "b81585fc-fbc8-44d5-b4ec-0de619c48cac",
   "metadata": {},
   "outputs": [],
   "source": [
    "data=pd.read_csv(\"C:/Users/nania/OneDrive/Documents/Datasets/Real_Estate.csv\")"
   ]
  },
  {
   "cell_type": "code",
   "execution_count": 63,
   "id": "e346e3f8-005c-414d-ae00-e522da5f00ad",
   "metadata": {},
   "outputs": [
    {
     "data": {
      "text/html": [
       "<div>\n",
       "<style scoped>\n",
       "    .dataframe tbody tr th:only-of-type {\n",
       "        vertical-align: middle;\n",
       "    }\n",
       "\n",
       "    .dataframe tbody tr th {\n",
       "        vertical-align: top;\n",
       "    }\n",
       "\n",
       "    .dataframe thead th {\n",
       "        text-align: right;\n",
       "    }\n",
       "</style>\n",
       "<table border=\"1\" class=\"dataframe\">\n",
       "  <thead>\n",
       "    <tr style=\"text-align: right;\">\n",
       "      <th></th>\n",
       "      <th>Transaction date</th>\n",
       "      <th>House age</th>\n",
       "      <th>Distance to the nearest MRT station</th>\n",
       "      <th>Number of convenience stores</th>\n",
       "      <th>Latitude</th>\n",
       "      <th>Longitude</th>\n",
       "      <th>House price of unit area</th>\n",
       "    </tr>\n",
       "  </thead>\n",
       "  <tbody>\n",
       "    <tr>\n",
       "      <th>0</th>\n",
       "      <td>2012-09-02 16:42:30.519336</td>\n",
       "      <td>13.3</td>\n",
       "      <td>4082.0150</td>\n",
       "      <td>8</td>\n",
       "      <td>25.007059</td>\n",
       "      <td>121.561694</td>\n",
       "      <td>6.488673</td>\n",
       "    </tr>\n",
       "    <tr>\n",
       "      <th>1</th>\n",
       "      <td>2012-09-04 22:52:29.919544</td>\n",
       "      <td>35.5</td>\n",
       "      <td>274.0144</td>\n",
       "      <td>2</td>\n",
       "      <td>25.012148</td>\n",
       "      <td>121.546990</td>\n",
       "      <td>24.970725</td>\n",
       "    </tr>\n",
       "    <tr>\n",
       "      <th>2</th>\n",
       "      <td>2012-09-05 01:10:52.349449</td>\n",
       "      <td>1.1</td>\n",
       "      <td>1978.6710</td>\n",
       "      <td>10</td>\n",
       "      <td>25.003850</td>\n",
       "      <td>121.528336</td>\n",
       "      <td>26.694267</td>\n",
       "    </tr>\n",
       "    <tr>\n",
       "      <th>3</th>\n",
       "      <td>2012-09-05 13:26:01.189083</td>\n",
       "      <td>22.2</td>\n",
       "      <td>1055.0670</td>\n",
       "      <td>5</td>\n",
       "      <td>24.962887</td>\n",
       "      <td>121.482178</td>\n",
       "      <td>38.091638</td>\n",
       "    </tr>\n",
       "    <tr>\n",
       "      <th>4</th>\n",
       "      <td>2012-09-06 08:29:47.910523</td>\n",
       "      <td>8.5</td>\n",
       "      <td>967.4000</td>\n",
       "      <td>6</td>\n",
       "      <td>25.011037</td>\n",
       "      <td>121.479946</td>\n",
       "      <td>21.654710</td>\n",
       "    </tr>\n",
       "  </tbody>\n",
       "</table>\n",
       "</div>"
      ],
      "text/plain": [
       "             Transaction date  House age  Distance to the nearest MRT station  \\\n",
       "0  2012-09-02 16:42:30.519336       13.3                            4082.0150   \n",
       "1  2012-09-04 22:52:29.919544       35.5                             274.0144   \n",
       "2  2012-09-05 01:10:52.349449        1.1                            1978.6710   \n",
       "3  2012-09-05 13:26:01.189083       22.2                            1055.0670   \n",
       "4  2012-09-06 08:29:47.910523        8.5                             967.4000   \n",
       "\n",
       "   Number of convenience stores   Latitude   Longitude  \\\n",
       "0                             8  25.007059  121.561694   \n",
       "1                             2  25.012148  121.546990   \n",
       "2                            10  25.003850  121.528336   \n",
       "3                             5  24.962887  121.482178   \n",
       "4                             6  25.011037  121.479946   \n",
       "\n",
       "   House price of unit area  \n",
       "0                  6.488673  \n",
       "1                 24.970725  \n",
       "2                 26.694267  \n",
       "3                 38.091638  \n",
       "4                 21.654710  "
      ]
     },
     "execution_count": 63,
     "metadata": {},
     "output_type": "execute_result"
    }
   ],
   "source": [
    "data.head()"
   ]
  },
  {
   "cell_type": "code",
   "execution_count": 64,
   "id": "9152fb00-a3b5-4f23-bb24-6db7cf2f55c2",
   "metadata": {},
   "outputs": [
    {
     "data": {
      "text/html": [
       "<div>\n",
       "<style scoped>\n",
       "    .dataframe tbody tr th:only-of-type {\n",
       "        vertical-align: middle;\n",
       "    }\n",
       "\n",
       "    .dataframe tbody tr th {\n",
       "        vertical-align: top;\n",
       "    }\n",
       "\n",
       "    .dataframe thead th {\n",
       "        text-align: right;\n",
       "    }\n",
       "</style>\n",
       "<table border=\"1\" class=\"dataframe\">\n",
       "  <thead>\n",
       "    <tr style=\"text-align: right;\">\n",
       "      <th></th>\n",
       "      <th>Transaction date</th>\n",
       "      <th>House age</th>\n",
       "      <th>Distance to the nearest MRT station</th>\n",
       "      <th>Number of convenience stores</th>\n",
       "      <th>Latitude</th>\n",
       "      <th>Longitude</th>\n",
       "      <th>House price of unit area</th>\n",
       "    </tr>\n",
       "  </thead>\n",
       "  <tbody>\n",
       "    <tr>\n",
       "      <th>409</th>\n",
       "      <td>2013-07-25 15:30:36.565239</td>\n",
       "      <td>18.3</td>\n",
       "      <td>170.12890</td>\n",
       "      <td>6</td>\n",
       "      <td>24.981186</td>\n",
       "      <td>121.486798</td>\n",
       "      <td>29.096310</td>\n",
       "    </tr>\n",
       "    <tr>\n",
       "      <th>410</th>\n",
       "      <td>2013-07-26 17:16:34.019780</td>\n",
       "      <td>11.9</td>\n",
       "      <td>323.69120</td>\n",
       "      <td>2</td>\n",
       "      <td>24.950070</td>\n",
       "      <td>121.483918</td>\n",
       "      <td>33.871347</td>\n",
       "    </tr>\n",
       "    <tr>\n",
       "      <th>411</th>\n",
       "      <td>2013-07-28 21:47:23.339050</td>\n",
       "      <td>0.0</td>\n",
       "      <td>451.64190</td>\n",
       "      <td>8</td>\n",
       "      <td>24.963901</td>\n",
       "      <td>121.543387</td>\n",
       "      <td>25.255105</td>\n",
       "    </tr>\n",
       "    <tr>\n",
       "      <th>412</th>\n",
       "      <td>2013-07-29 13:33:29.405317</td>\n",
       "      <td>35.9</td>\n",
       "      <td>292.99780</td>\n",
       "      <td>5</td>\n",
       "      <td>24.997863</td>\n",
       "      <td>121.558286</td>\n",
       "      <td>25.285620</td>\n",
       "    </tr>\n",
       "    <tr>\n",
       "      <th>413</th>\n",
       "      <td>2013-08-01 09:49:41.506402</td>\n",
       "      <td>12.0</td>\n",
       "      <td>90.45606</td>\n",
       "      <td>6</td>\n",
       "      <td>24.952904</td>\n",
       "      <td>121.526395</td>\n",
       "      <td>37.580554</td>\n",
       "    </tr>\n",
       "  </tbody>\n",
       "</table>\n",
       "</div>"
      ],
      "text/plain": [
       "               Transaction date  House age  \\\n",
       "409  2013-07-25 15:30:36.565239       18.3   \n",
       "410  2013-07-26 17:16:34.019780       11.9   \n",
       "411  2013-07-28 21:47:23.339050        0.0   \n",
       "412  2013-07-29 13:33:29.405317       35.9   \n",
       "413  2013-08-01 09:49:41.506402       12.0   \n",
       "\n",
       "     Distance to the nearest MRT station  Number of convenience stores  \\\n",
       "409                            170.12890                             6   \n",
       "410                            323.69120                             2   \n",
       "411                            451.64190                             8   \n",
       "412                            292.99780                             5   \n",
       "413                             90.45606                             6   \n",
       "\n",
       "      Latitude   Longitude  House price of unit area  \n",
       "409  24.981186  121.486798                 29.096310  \n",
       "410  24.950070  121.483918                 33.871347  \n",
       "411  24.963901  121.543387                 25.255105  \n",
       "412  24.997863  121.558286                 25.285620  \n",
       "413  24.952904  121.526395                 37.580554  "
      ]
     },
     "execution_count": 64,
     "metadata": {},
     "output_type": "execute_result"
    }
   ],
   "source": [
    "data.tail()"
   ]
  },
  {
   "cell_type": "code",
   "execution_count": 65,
   "id": "f75066de-ffef-432f-81f9-9da6c1785bb1",
   "metadata": {},
   "outputs": [
    {
     "data": {
      "text/plain": [
       "<bound method DataFrame.info of                Transaction date  House age  \\\n",
       "0    2012-09-02 16:42:30.519336       13.3   \n",
       "1    2012-09-04 22:52:29.919544       35.5   \n",
       "2    2012-09-05 01:10:52.349449        1.1   \n",
       "3    2012-09-05 13:26:01.189083       22.2   \n",
       "4    2012-09-06 08:29:47.910523        8.5   \n",
       "..                          ...        ...   \n",
       "409  2013-07-25 15:30:36.565239       18.3   \n",
       "410  2013-07-26 17:16:34.019780       11.9   \n",
       "411  2013-07-28 21:47:23.339050        0.0   \n",
       "412  2013-07-29 13:33:29.405317       35.9   \n",
       "413  2013-08-01 09:49:41.506402       12.0   \n",
       "\n",
       "     Distance to the nearest MRT station  Number of convenience stores  \\\n",
       "0                             4082.01500                             8   \n",
       "1                              274.01440                             2   \n",
       "2                             1978.67100                            10   \n",
       "3                             1055.06700                             5   \n",
       "4                              967.40000                             6   \n",
       "..                                   ...                           ...   \n",
       "409                            170.12890                             6   \n",
       "410                            323.69120                             2   \n",
       "411                            451.64190                             8   \n",
       "412                            292.99780                             5   \n",
       "413                             90.45606                             6   \n",
       "\n",
       "      Latitude   Longitude  House price of unit area  \n",
       "0    25.007059  121.561694                  6.488673  \n",
       "1    25.012148  121.546990                 24.970725  \n",
       "2    25.003850  121.528336                 26.694267  \n",
       "3    24.962887  121.482178                 38.091638  \n",
       "4    25.011037  121.479946                 21.654710  \n",
       "..         ...         ...                       ...  \n",
       "409  24.981186  121.486798                 29.096310  \n",
       "410  24.950070  121.483918                 33.871347  \n",
       "411  24.963901  121.543387                 25.255105  \n",
       "412  24.997863  121.558286                 25.285620  \n",
       "413  24.952904  121.526395                 37.580554  \n",
       "\n",
       "[414 rows x 7 columns]>"
      ]
     },
     "execution_count": 65,
     "metadata": {},
     "output_type": "execute_result"
    }
   ],
   "source": [
    "data.info"
   ]
  },
  {
   "cell_type": "code",
   "execution_count": 66,
   "id": "e6eed8b2-7572-4cde-944d-8753106e30e3",
   "metadata": {},
   "outputs": [],
   "source": [
    "import datetime"
   ]
  },
  {
   "cell_type": "code",
   "execution_count": 67,
   "id": "57994693-7890-4e21-9399-5ace49fa7d7f",
   "metadata": {},
   "outputs": [],
   "source": [
    "data['Transaction date']= pd.to_datetime(data['Transaction date'])"
   ]
  },
  {
   "cell_type": "code",
   "execution_count": 68,
   "id": "3f73706a-e64d-4c4c-8456-5391ffcd53fb",
   "metadata": {},
   "outputs": [],
   "source": [
    "data['Transaction year'] = data['Transaction date'].dt.year\n",
    "data['Transaction month'] = data['Transaction date'].dt.month"
   ]
  },
  {
   "cell_type": "code",
   "execution_count": 69,
   "id": "cd77da90-8331-457a-9cef-b1caaf09acd6",
   "metadata": {},
   "outputs": [],
   "source": [
    "data = data.drop(columns=['Transaction date']) # after arrivinf year and month seperately we dont need the transaction date"
   ]
  },
  {
   "cell_type": "code",
   "execution_count": 70,
   "id": "b4a9fe72-1f7a-4928-b20d-ee9eac0f3775",
   "metadata": {},
   "outputs": [
    {
     "data": {
      "text/html": [
       "<div>\n",
       "<style scoped>\n",
       "    .dataframe tbody tr th:only-of-type {\n",
       "        vertical-align: middle;\n",
       "    }\n",
       "\n",
       "    .dataframe tbody tr th {\n",
       "        vertical-align: top;\n",
       "    }\n",
       "\n",
       "    .dataframe thead th {\n",
       "        text-align: right;\n",
       "    }\n",
       "</style>\n",
       "<table border=\"1\" class=\"dataframe\">\n",
       "  <thead>\n",
       "    <tr style=\"text-align: right;\">\n",
       "      <th></th>\n",
       "      <th>House age</th>\n",
       "      <th>Distance to the nearest MRT station</th>\n",
       "      <th>Number of convenience stores</th>\n",
       "      <th>Latitude</th>\n",
       "      <th>Longitude</th>\n",
       "      <th>House price of unit area</th>\n",
       "      <th>Transaction year</th>\n",
       "      <th>Transaction month</th>\n",
       "    </tr>\n",
       "  </thead>\n",
       "  <tbody>\n",
       "    <tr>\n",
       "      <th>0</th>\n",
       "      <td>13.3</td>\n",
       "      <td>4082.0150</td>\n",
       "      <td>8</td>\n",
       "      <td>25.007059</td>\n",
       "      <td>121.561694</td>\n",
       "      <td>6.488673</td>\n",
       "      <td>2012</td>\n",
       "      <td>9</td>\n",
       "    </tr>\n",
       "    <tr>\n",
       "      <th>1</th>\n",
       "      <td>35.5</td>\n",
       "      <td>274.0144</td>\n",
       "      <td>2</td>\n",
       "      <td>25.012148</td>\n",
       "      <td>121.546990</td>\n",
       "      <td>24.970725</td>\n",
       "      <td>2012</td>\n",
       "      <td>9</td>\n",
       "    </tr>\n",
       "    <tr>\n",
       "      <th>2</th>\n",
       "      <td>1.1</td>\n",
       "      <td>1978.6710</td>\n",
       "      <td>10</td>\n",
       "      <td>25.003850</td>\n",
       "      <td>121.528336</td>\n",
       "      <td>26.694267</td>\n",
       "      <td>2012</td>\n",
       "      <td>9</td>\n",
       "    </tr>\n",
       "    <tr>\n",
       "      <th>3</th>\n",
       "      <td>22.2</td>\n",
       "      <td>1055.0670</td>\n",
       "      <td>5</td>\n",
       "      <td>24.962887</td>\n",
       "      <td>121.482178</td>\n",
       "      <td>38.091638</td>\n",
       "      <td>2012</td>\n",
       "      <td>9</td>\n",
       "    </tr>\n",
       "    <tr>\n",
       "      <th>4</th>\n",
       "      <td>8.5</td>\n",
       "      <td>967.4000</td>\n",
       "      <td>6</td>\n",
       "      <td>25.011037</td>\n",
       "      <td>121.479946</td>\n",
       "      <td>21.654710</td>\n",
       "      <td>2012</td>\n",
       "      <td>9</td>\n",
       "    </tr>\n",
       "  </tbody>\n",
       "</table>\n",
       "</div>"
      ],
      "text/plain": [
       "   House age  Distance to the nearest MRT station  \\\n",
       "0       13.3                            4082.0150   \n",
       "1       35.5                             274.0144   \n",
       "2        1.1                            1978.6710   \n",
       "3       22.2                            1055.0670   \n",
       "4        8.5                             967.4000   \n",
       "\n",
       "   Number of convenience stores   Latitude   Longitude  \\\n",
       "0                             8  25.007059  121.561694   \n",
       "1                             2  25.012148  121.546990   \n",
       "2                            10  25.003850  121.528336   \n",
       "3                             5  24.962887  121.482178   \n",
       "4                             6  25.011037  121.479946   \n",
       "\n",
       "   House price of unit area  Transaction year  Transaction month  \n",
       "0                  6.488673              2012                  9  \n",
       "1                 24.970725              2012                  9  \n",
       "2                 26.694267              2012                  9  \n",
       "3                 38.091638              2012                  9  \n",
       "4                 21.654710              2012                  9  "
      ]
     },
     "execution_count": 70,
     "metadata": {},
     "output_type": "execute_result"
    }
   ],
   "source": [
    "data.head()"
   ]
  },
  {
   "cell_type": "code",
   "execution_count": 71,
   "id": "c2a07149-d4fd-46dd-b2ad-d9eecdbd35df",
   "metadata": {},
   "outputs": [
    {
     "name": "stdout",
     "output_type": "stream",
     "text": [
      "Requirement already satisfied: scikit-learn in c:\\users\\nania\\appdata\\local\\programs\\python\\python312\\lib\\site-packages (1.5.1)Note: you may need to restart the kernel to use updated packages.\n",
      "\n",
      "Requirement already satisfied: numpy>=1.19.5 in c:\\users\\nania\\appdata\\local\\programs\\python\\python312\\lib\\site-packages (from scikit-learn) (2.1.0)\n",
      "Requirement already satisfied: scipy>=1.6.0 in c:\\users\\nania\\appdata\\local\\programs\\python\\python312\\lib\\site-packages (from scikit-learn) (1.14.1)\n",
      "Requirement already satisfied: joblib>=1.2.0 in c:\\users\\nania\\appdata\\local\\programs\\python\\python312\\lib\\site-packages (from scikit-learn) (1.4.2)\n",
      "Requirement already satisfied: threadpoolctl>=3.1.0 in c:\\users\\nania\\appdata\\local\\programs\\python\\python312\\lib\\site-packages (from scikit-learn) (3.5.0)\n"
     ]
    },
    {
     "name": "stderr",
     "output_type": "stream",
     "text": [
      "WARNING: Retrying (Retry(total=4, connect=None, read=None, redirect=None, status=None)) after connection broken by 'SSLError(SSLCertVerificationError('A certificate chain processed, but terminated in a root certificate which is not trusted by the trust provider.'))': /simple/scikit-learn/\n"
     ]
    }
   ],
   "source": [
    "pip install -U scikit-learn"
   ]
  },
  {
   "cell_type": "code",
   "execution_count": 72,
   "id": "8aa2e4ab-d6a3-4c4a-9d16-e3f9327734a8",
   "metadata": {},
   "outputs": [],
   "source": [
    "from sklearn.model_selection import train_test_split\n",
    "from sklearn.preprocessing import StandardScaler"
   ]
  },
  {
   "cell_type": "code",
   "execution_count": 73,
   "id": "2a074ac7-bfe4-4bb6-b224-c851c961e728",
   "metadata": {},
   "outputs": [],
   "source": [
    "x = data.drop('House price of unit area', axis =1)\n",
    "y = data['House price of unit area']"
   ]
  },
  {
   "cell_type": "code",
   "execution_count": 74,
   "id": "9832da6b-c513-43d9-90e6-fc65865ee5d3",
   "metadata": {},
   "outputs": [],
   "source": [
    "x_train, x_test, y_train, y_test =train_test_split(x,y,test_size=0.2,random_state=42) # split the data training and testing sets"
   ]
  },
  {
   "cell_type": "code",
   "execution_count": 75,
   "id": "9fe8cf66-8292-4d46-a287-7eef2a06e9c5",
   "metadata": {},
   "outputs": [],
   "source": [
    "scaler = StandardScaler()\n",
    "x_train_scaled=scaler.fit_transform(x_train)\n",
    "x_test_scaled=scaler.transform(x_test)"
   ]
  },
  {
   "cell_type": "code",
   "execution_count": 76,
   "id": "2b9b002e-815f-4e3e-95ca-6580baa9e180",
   "metadata": {},
   "outputs": [
    {
     "data": {
      "text/plain": [
       "(331, 7)"
      ]
     },
     "execution_count": 76,
     "metadata": {},
     "output_type": "execute_result"
    }
   ],
   "source": [
    "x_train_scaled.shape"
   ]
  },
  {
   "cell_type": "code",
   "execution_count": 77,
   "id": "e9710f64-14e1-44e9-9930-7a8d8cff22e2",
   "metadata": {},
   "outputs": [],
   "source": [
    "from sklearn.linear_model import LinearRegression\n",
    "from sklearn.tree import DecisionTreeRegressor\n",
    "from sklearn.ensemble import RandomForestRegressor, GradientBoostingRegressor\n",
    "from sklearn.metrics import mean_absolute_error, r2_score"
   ]
  },
  {
   "cell_type": "code",
   "execution_count": 78,
   "id": "8a72981f-f90e-43ad-8d32-924ace7b5cc0",
   "metadata": {},
   "outputs": [],
   "source": [
    "models ={\n",
    "    'Linear Regression': LinearRegression(),\n",
    "    'Decision Tree': DecisionTreeRegressor(random_state=42),\n",
    "    'Random Forest': RandomForestRegressor(random_state=42),\n",
    "    'Gradient Boosting': GradientBoostingRegressor(random_state=42)\n",
    "}"
   ]
  },
  {
   "cell_type": "code",
   "execution_count": 83,
   "id": "be935488-cef7-42aa-b4de-8078b768a512",
   "metadata": {},
   "outputs": [],
   "source": [
    "results = {}\n",
    "for name, model in models.items():\n",
    "    model.fit(x_train_scaled,y_train)\n",
    "    predictions = model.predict(x_test_scaled)\n",
    "    mae = mean_absolute_error(y_test, predictions)\n",
    "    r2 = r2_score(y_test,predictions)\n",
    "    results[name] = {\"MAE\": mae,\"R2\":r2}"
   ]
  },
  {
   "cell_type": "code",
   "execution_count": 84,
   "id": "0663db6f-09c3-42f2-9ac6-de0efe87c129",
   "metadata": {},
   "outputs": [
    {
     "name": "stdout",
     "output_type": "stream",
     "text": [
      "                         MAE        R2\n",
      "Linear Regression   9.748246  0.529615\n",
      "Decision Tree      11.760342  0.204962\n",
      "Random Forest       9.887601  0.509547\n",
      "Gradient Boosting  10.000117  0.476071\n"
     ]
    }
   ],
   "source": [
    "results_A = pd.DataFrame(results).T\n",
    "print(results_A)"
   ]
  },
  {
   "cell_type": "code",
   "execution_count": null,
   "id": "bad952e1-0e2b-4d8a-91c4-ed813d795d6f",
   "metadata": {},
   "outputs": [],
   "source": []
  },
  {
   "cell_type": "code",
   "execution_count": null,
   "id": "dcdeb88e-b27d-43fd-9b18-d6f3b17ff48f",
   "metadata": {},
   "outputs": [],
   "source": []
  },
  {
   "cell_type": "code",
   "execution_count": null,
   "id": "72dd6d42-99c5-4743-8616-3f08b1c41331",
   "metadata": {},
   "outputs": [],
   "source": []
  },
  {
   "cell_type": "code",
   "execution_count": null,
   "id": "14755636-1ead-4bb8-9741-6742c19f9c0f",
   "metadata": {},
   "outputs": [],
   "source": []
  },
  {
   "cell_type": "code",
   "execution_count": null,
   "id": "54d72394-d675-4bc0-8ff7-1a0bb3a311f7",
   "metadata": {},
   "outputs": [],
   "source": []
  },
  {
   "cell_type": "code",
   "execution_count": null,
   "id": "88f071f5-c158-49ff-aafc-ebe76f4774f2",
   "metadata": {},
   "outputs": [],
   "source": []
  },
  {
   "cell_type": "code",
   "execution_count": null,
   "id": "9635719e-5164-4c0b-a0ca-5242d4aba0fa",
   "metadata": {},
   "outputs": [],
   "source": []
  }
 ],
 "metadata": {
  "kernelspec": {
   "display_name": "Python 3 (ipykernel)",
   "language": "python",
   "name": "python3"
  },
  "language_info": {
   "codemirror_mode": {
    "name": "ipython",
    "version": 3
   },
   "file_extension": ".py",
   "mimetype": "text/x-python",
   "name": "python",
   "nbconvert_exporter": "python",
   "pygments_lexer": "ipython3",
   "version": "3.12.5"
  }
 },
 "nbformat": 4,
 "nbformat_minor": 5
}
